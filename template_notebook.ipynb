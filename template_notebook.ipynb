{
 "cells": [
  {
   "cell_type": "markdown",
   "metadata": {},
   "source": [
    "# Converting NASA ames file to EBAS template\n",
    "## You will need to go through the following steps:\n",
    "1. Append a title \n",
    "2. Create a short description/introduction to the template\n",
    "3. Add a list of flags \"commonly used\" with the specific template\n",
    "4. Add important points to note for the user in a seperate text file or in the code\n",
    "5. Create the links.txt file including links to comments for each of the lines\n",
    "6. Append the path for the nasa ames file you will use as a basis\n",
    "7. Reference the path of the HTML file where you append all of the template content\n",
    "8. Run the function that generates the template"
   ]
  },
  {
   "cell_type": "code",
   "execution_count": 1,
   "metadata": {
    "collapsed": false
   },
   "outputs": [],
   "source": [
    "from generate_template import generate_template"
   ]
  },
  {
   "cell_type": "markdown",
   "metadata": {},
   "source": [
    "## 1. Append a title"
   ]
  },
  {
   "cell_type": "code",
   "execution_count": 2,
   "metadata": {
    "collapsed": true
   },
   "outputs": [],
   "source": [
    "MAIN_TITLE = \"Template for submission of CCN concentration measurements\""
   ]
  },
  {
   "cell_type": "markdown",
   "metadata": {},
   "source": [
    "## 2. Create a short description\n",
    "Each line followed by the magic command \"%%writefile\" is added to the text file short-description.txt as a seperate line.\n",
    "Use the parameter -a as in the example below, in order to append to an already existing file. \n",
    "### Example:\n",
    "\n",
    "    %%writefile -a short-description.txt\n",
    "    Template for Cloud Condensation Particle Counter Data for reporting level 1 data.\n",
    "    This page contains two templates, including CCN concentration as function of supersaturation and CCN concentrationas function of supersaturation and particle diameter."
   ]
  },
  {
   "cell_type": "markdown",
   "metadata": {},
   "source": [
    "### You must reference the path of the short-description.txt file"
   ]
  },
  {
   "cell_type": "code",
   "execution_count": 3,
   "metadata": {
    "collapsed": true
   },
   "outputs": [],
   "source": [
    "SHORT_DESCRIPTION_PATH = \"/home/ror/repos/temp-gen-notebook/example_files/short-description.txt\""
   ]
  },
  {
   "cell_type": "markdown",
   "metadata": {},
   "source": [
    "### You can edit the description here if you want"
   ]
  },
  {
   "cell_type": "code",
   "execution_count": 4,
   "metadata": {
    "collapsed": false
   },
   "outputs": [
    {
     "name": "stderr",
     "output_type": "stream",
     "text": [
      "UsageError: %%writefile is a cell magic, but the cell body is empty."
     ]
    }
   ],
   "source": [
    "%%writefile short-description.txt\n",
    "\n"
   ]
  },
  {
   "cell_type": "markdown",
   "metadata": {},
   "source": [
    "### Here we have print out the results based on the input file to check:"
   ]
  },
  {
   "cell_type": "code",
   "execution_count": 5,
   "metadata": {
    "collapsed": false
   },
   "outputs": [
    {
     "name": "stdout",
     "output_type": "stream",
     "text": [
      "Template for Cloud Condensation Particle Counter Data for reporting level 1 data.\n",
      "\n",
      "This page contains two templates, including CCN concentration as function of supersaturation and CCN concentration as function of supersaturation and particle diameter.\n",
      "\n"
     ]
    }
   ],
   "source": [
    "with open('example_files/short-description.txt', 'r') as f:\n",
    "    for line in f:\n",
    "        print(line)"
   ]
  },
  {
   "cell_type": "markdown",
   "metadata": {},
   "source": [
    "## 3. List of flags\n",
    "    Content based on the lines here https://gist.github.com/richard-olav/5d878cfa3a95ea872259ddc3c945fb19. So e.g. FLAG_LIST = \"1\" Would equal line one in the GIST"
   ]
  },
  {
   "cell_type": "code",
   "execution_count": 6,
   "metadata": {
    "collapsed": true
   },
   "outputs": [],
   "source": [
    "FLAG_LIST = \"5,7,9,31,37,38,48,57,72,95,106,115,149,150,151,152,153,157,163\""
   ]
  },
  {
   "cell_type": "markdown",
   "metadata": {},
   "source": [
    "## 4. Add important points to note for the user in a seperate text file or in the code"
   ]
  },
  {
   "cell_type": "markdown",
   "metadata": {},
   "source": [
    "### Reference the text file to use"
   ]
  },
  {
   "cell_type": "code",
   "execution_count": 7,
   "metadata": {
    "collapsed": true
   },
   "outputs": [],
   "source": [
    "POINTS_TO_NOTE_PATH = \"/home/ror/repos/temp-gen-notebook/example_files/points-to-note.txt\""
   ]
  },
  {
   "cell_type": "markdown",
   "metadata": {},
   "source": [
    "### You can edit the file here if you want"
   ]
  },
  {
   "cell_type": "code",
   "execution_count": 8,
   "metadata": {
    "collapsed": false
   },
   "outputs": [
    {
     "name": "stderr",
     "output_type": "stream",
     "text": [
      "UsageError: %%writefile is a cell magic, but the cell body is empty."
     ]
    }
   ],
   "source": [
    "%%writefile points-to-note.txt\n"
   ]
  },
  {
   "cell_type": "code",
   "execution_count": 9,
   "metadata": {
    "collapsed": false
   },
   "outputs": [
    {
     "name": "stdout",
     "output_type": "stream",
     "text": [
      "Polydisperse / monodisperse CCNC setups: This page contains templates for both types of setups. Please scroll down to the page bottom for the monodisperse setup template.\n",
      "\n",
      "Reference pressure and temperature for flows: A level 1 file contains the data referenced to standard conditions of temperature and pressure (273.15 K, 1013.25 hPa).\n",
      "\n",
      "File structure: In contrast to most other level 1 formats, the CCNC level 1 format contains one data line per supersaturation (SS) setpoint (polydisperse setup) or SS / diameter setpoint (monodisperse setup). This is intended to facilitate exact comparisons with other instruments. For monodisperse setups however, the size distribution inversion needs to be applied to the data.\n",
      "\n",
      "Calibration periods: Calibration periods should be removed form the data.\n",
      "\n",
      "Supersaturation: The supersaturation stated in level 1 CCNC data files should be identical with the target value. The CCN concentration however should be interpolated to the target supersaturartion using the actual, current calibration. The same applies to the particle diameter for monodisperse setups, which is interpolated by the inversion.\n",
      "\n"
     ]
    }
   ],
   "source": [
    "with open('example_files/points-to-note.txt', 'r') as f:\n",
    "    for line in f:\n",
    "        print(line)"
   ]
  },
  {
   "cell_type": "markdown",
   "metadata": {},
   "source": [
    "## 5. Reference the filepath of the .txt file containing links to comments for each of the lines\n",
    "    Note: The line containing the link in your links.txt file must correspond to the same line as in the .nas file"
   ]
  },
  {
   "cell_type": "code",
   "execution_count": 10,
   "metadata": {
    "collapsed": true
   },
   "outputs": [],
   "source": [
    "LINKS_PATH = \"/home/ror/repos/temp-gen-notebook/example_files/links.txt\""
   ]
  },
  {
   "cell_type": "markdown",
   "metadata": {},
   "source": [
    "## 6. Reference the nasa-ames file you use as the basis for the template"
   ]
  },
  {
   "cell_type": "code",
   "execution_count": 11,
   "metadata": {
    "collapsed": true
   },
   "outputs": [],
   "source": [
    "NAS_PATH = \"/home/ror/repos/temp-gen-notebook/example_files/example.nas\""
   ]
  },
  {
   "cell_type": "markdown",
   "metadata": {},
   "source": [
    "## 7. Reference the path of the HTML file where you append all of the template content"
   ]
  },
  {
   "cell_type": "code",
   "execution_count": 12,
   "metadata": {
    "collapsed": true
   },
   "outputs": [],
   "source": [
    "HTML_PATH = \"/home/ror/repos/temp-gen-notebook/example_files/example.html\""
   ]
  },
  {
   "cell_type": "markdown",
   "metadata": {},
   "source": [
    "## Run function and create template "
   ]
  },
  {
   "cell_type": "code",
   "execution_count": 13,
   "metadata": {
    "collapsed": false
   },
   "outputs": [
    {
     "name": "stdout",
     "output_type": "stream",
     "text": [
      "('You generated template successfully, and can find it here: ', '/home/ror/repos/temp-gen-notebook/example_files/example.html')\n"
     ]
    }
   ],
   "source": [
    "generate_template(LINKS_PATH,NAS_PATH,HTML_PATH,FLAG_LIST,MAIN_TITLE,SHORT_DESCRIPTION_PATH,POINTS_TO_NOTE_PATH)"
   ]
  }
 ],
 "metadata": {
  "kernelspec": {
   "display_name": "Python 2",
   "language": "python",
   "name": "python2"
  },
  "language_info": {
   "codemirror_mode": {
    "name": "ipython",
    "version": 2
   },
   "file_extension": ".py",
   "mimetype": "text/x-python",
   "name": "python",
   "nbconvert_exporter": "python",
   "pygments_lexer": "ipython2",
   "version": "2.7.11"
  }
 },
 "nbformat": 4,
 "nbformat_minor": 0
}
